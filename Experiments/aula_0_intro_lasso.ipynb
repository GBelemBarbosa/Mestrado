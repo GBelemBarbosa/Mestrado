{
 "cells": [
  {
   "cell_type": "markdown",
   "metadata": {
    "slideshow": {
     "slide_type": "slide"
    }
   },
   "source": [
    "# Introdução ao Lasso e à regressão logística com regularização  $\\ell_1$\n",
    "\n",
    "Por Paulo J. S. Silva"
   ]
  },
  {
   "cell_type": "markdown",
   "metadata": {
    "slideshow": {
     "slide_type": "slide"
    }
   },
   "source": [
    "## Lasso\n",
    "\n",
    "O problema Lasso tem a forma\n",
    "\n",
    "$$\n",
    " \\min_x \\frac{1}{2}\\Vert Ax - b \\Vert_2^2 + \\lambda \\Vert x \\Vert_1.\n",
    "$$\n",
    "\n",
    "* Primeiro termo busca ajustar os dados por quadrados mínimos;\n",
    "* O segundo termo (regularização $\\ell_1$) busca soluções esparsas;\n",
    "* O $\\lambda$ pondera entre esses dois objetivos.\n",
    "\n",
    "Combina ajuste com seleção de variáveis (características).\n"
   ]
  },
  {
   "cell_type": "markdown",
   "metadata": {
    "slideshow": {
     "slide_type": "slide"
    }
   },
   "source": [
    "## Características\n",
    "\n",
    "* Primeiro termo:\n",
    "    * Diferenciável e tem estrutura simples;\n",
    "    * Convexo (mais sobre isso depois);\n",
    "    * Admite solução fechada (resolução de um sistema linear);\n",
    "    * Estrutura simples que pode ser explorada de diversas formas;\n",
    "    \n",
    "* Segundo termo:\n",
    "    * Convexo mas não diferenciável;\n",
    "    * Dificulta usar métodos tradicionais;\n",
    "    * Mas uma vez estrutura rica que admite diversas abordagens."
   ]
  },
  {
   "cell_type": "markdown",
   "metadata": {
    "slideshow": {
     "slide_type": "slide"
    }
   },
   "source": [
    "## Regressão logística com regularização $\\ell_1$\n",
    "\n",
    "O problema é\n",
    "\n",
    "$$\n",
    "\\min_x \\sum_{i = 1}^{n} \\log (1 + \\exp(-b_i A_{i, :} x)) + \\lambda \\Vert x \\Vert_1,\n",
    "$$\n",
    "\n",
    "* Adequado para problemas de classificação $b = \\pm 1$;\n",
    "* Primeiro termo ainda diferenciável, porém mais \"complicado\";\n",
    "* Mesmo segundo termo: não diferenciável com estrutura favorável."
   ]
  },
  {
   "cell_type": "markdown",
   "metadata": {
    "slideshow": {
     "slide_type": "slide"
    }
   },
   "source": [
    "## Dados para testes computacionais\n",
    "\n",
    "* Os dois problemas serão usados de forma repetida como exemplos durante o curso;\n",
    "* Serão usados para testar diferentes métodos;\n",
    "* Não \"gosto\" de instâncias aleatórias.\n",
    "\n",
    "[Dados](https://drive.google.com/drive/folders/1MXlxmYR4lqFPH5i-FTnCW1bAU2BeCqTp?usp=sharing) usados em Ronaldo Lopes, Sandra Santos, and Paulo J. S. Silva. [\"Accelerating block coordinate\n",
    "descent methods with identification strategies\",Computational Optimization and Applications, 2019.](http://www.ime.unicamp.br/~pjssilva/papers/block_coordinate/)\n"
   ]
  },
  {
   "cell_type": "code",
   "execution_count": 4,
   "metadata": {
    "slideshow": {
     "slide_type": "slide"
    }
   },
   "outputs": [
    {
     "name": "stderr",
     "output_type": "stream",
     "text": [
      "\u001b[32m\u001b[1m  Activating\u001b[22m\u001b[39m project at `~/documentos/disciplinas/convex-alg/code`\n"
     ]
    },
    {
     "data": {
      "text/plain": [
       "LinearL1Problem(sparse([36, 120, 86, 52, 290, 268, 1, 256, 74, 125  …  89, 175, 114, 23, 222, 268, 76, 123, 200, 268], [1, 2, 3, 4, 5, 6, 7, 8, 9, 9  …  7844, 7844, 7845, 7846, 7846, 7846, 7847, 7847, 7847, 7847], [72.0, 427.0, 342.0, 116.0, 110.0, 67.0, 113.0, 595.0, 81.0, 213.0  …  42.0, 189.0, 75.0, 76.0, 66.0, 109.0, 141.0, 107.0, 57.0, 117.0], 300, 7847), [1.0, 1.0, -1.0, 1.0, -1.0, -1.0, -1.0, -1.0, 1.0, 1.0  …  1.0, -1.0, 1.0, -1.0, -1.0, 1.0, 1.0, 1.0, -1.0, 1.0], 1433.5, 114.7)"
      ]
     },
     "execution_count": 4,
     "metadata": {},
     "output_type": "execute_result"
    }
   ],
   "source": [
    "# Inicializa projeto\n",
    "import Pkg\n",
    "Pkg.activate(\"../../code/\")\n",
    "\n",
    "# Localização dos dados\n",
    "lassodir = \"../../lasso-data/Data-Lasso\"\n",
    "\n",
    "# Importa código\n",
    "include(\"mt853.jl\")\n",
    "\n",
    "data = readlasso(lassodir * \"/SC10.mat\")"
   ]
  },
  {
   "cell_type": "code",
   "execution_count": 5,
   "metadata": {
    "slideshow": {
     "slide_type": "slide"
    }
   },
   "outputs": [
    {
     "name": "stdout",
     "output_type": "stream",
     "text": [
      "size(data.A) = (300, 7847)\n",
      "nnz(data.A) = 27949\n"
     ]
    }
   ],
   "source": [
    "# Dimensões\n",
    "\n",
    "@show size(data.A)\n",
    "@show nnz(data.A);"
   ]
  },
  {
   "cell_type": "code",
   "execution_count": 6,
   "metadata": {
    "slideshow": {
     "slide_type": "slide"
    }
   },
   "outputs": [
    {
     "name": "stdout",
     "output_type": "stream",
     "text": [
      "SC17\n",
      "size(data.A) = (15564, 36842)\n",
      "nnz(data.A) = 1028284\n",
      "\n",
      "SR18\n",
      "size(data.A) = (518571, 41400)\n",
      "nnz(data.A) = 33486015\n"
     ]
    }
   ],
   "source": [
    "# Há problemas enormes\n",
    "\n",
    "data = readlasso(lassodir * \"/SC17.mat\")\n",
    "println(\"SC17\")\n",
    "@show size(data.A)\n",
    "@show nnz(data.A)\n",
    "println()\n",
    "\n",
    "data = readlasso(lassodir * \"/SR18.mat\")\n",
    "println(\"SR18\")\n",
    "@show size(data.A)\n",
    "@show nnz(data.A);\n"
   ]
  },
  {
   "cell_type": "code",
   "execution_count": 7,
   "metadata": {
    "slideshow": {
     "slide_type": "slide"
    }
   },
   "outputs": [
    {
     "name": "stdout",
     "output_type": "stream",
     "text": [
      "data.λ = 11813.48203431546\n",
      "data.ftarget = 3.473e7\n"
     ]
    }
   ],
   "source": [
    "# E o que mais tem?\n",
    "\n",
    "@show data.λ\n",
    "\n",
    "@show data.ftarget;"
   ]
  },
  {
   "cell_type": "code",
   "execution_count": 9,
   "metadata": {
    "slideshow": {
     "slide_type": "slide"
    }
   },
   "outputs": [
    {
     "data": {
      "text/plain": [
       "Dict{String, Any} with 4 entries:\n",
       "  \"A\"          => sparse([11082, 11204, 34989, 39570, 46481, 61048, 79167, 8269…\n",
       "  \"flogtarget\" => 354600.0\n",
       "  \"b\"          => [-1.0; -1.0; … ; 1.0; -1.0;;]\n",
       "  \"lambdalog\"  => 507.577"
      ]
     },
     "execution_count": 9,
     "metadata": {},
     "output_type": "execute_result"
    }
   ],
   "source": [
    "# E os problemas de regressão logística?\n",
    "logregdir = \"../../lasso-data/Data-Logistic\"\n",
    "\n",
    "vars = matread(logregdir * \"/SRlog17.mat\")"
   ]
  },
  {
   "cell_type": "code",
   "execution_count": 6,
   "metadata": {
    "slideshow": {
     "slide_type": "slide"
    }
   },
   "outputs": [
    {
     "name": "stdout",
     "output_type": "stream",
     "text": [
      "SRlog17\n",
      "size(data.A) = (677399, 42735)\n",
      "nnz(data.A) = 49556258\n",
      "(data.λ, data.ftarget) = (507.5773072770321, 354600.0)\n",
      "(data.b[1:5], data.b[end - 5:end]) = ([-1.0, -1.0, -1.0, -1.0, -1.0], [1.0, -1.0, -1.0, -1.0, 1.0, -1.0])\n"
     ]
    }
   ],
   "source": [
    "data = readlogreg(logregdir * \"/SRlog17.mat\")\n",
    "println(\"SRlog17\")\n",
    "@show size(data.A)\n",
    "@show nnz(data.A)\n",
    "@show data.λ, data.ftarget\n",
    "@show data.b[1:5], data.b[end-5:end];"
   ]
  },
  {
   "cell_type": "markdown",
   "metadata": {
    "slideshow": {
     "slide_type": "slide"
    }
   },
   "source": [
    "## Mas o que é um problema de otimização?\n",
    "\n",
    "Dada uma função $f: \\mathbb{R^n} \\rightarrow \\mathbb{R} \\cup \\{ \\pm \\infty \\}$, o problema\n",
    "\n",
    "$$\n",
    "\\min_{x \\in \\mathbb{R}^n} f(x)\n",
    "$$\n",
    "\n",
    "é uma notação para\n",
    "\n",
    "Def. Encontre $x^* \\in \\mathbb{R}^n$, se existir, tal que\n",
    "$$\n",
    "f(x^*) = \\inf \\{ f(x) \\mid x \\in \\mathbb{R}^n \\} \\in \\mathbb{R} \\cup \\{ \\pm \\infty \\}.\n",
    "$$\n",
    "\n",
    "Note que o ínfimo sempre existe e é chamado de *valor ótimo do problema*, já $x^*$ pode ou não existir e é chamado se *solução (ótima) ou (ponto de) ótimo* do problema de otimização.  "
   ]
  },
  {
   "cell_type": "markdown",
   "metadata": {
    "slideshow": {
     "slide_type": "slide"
    }
   },
   "source": [
    "## E um problema de otimização com restrições?\n",
    "\n",
    "Dada uma função $f: \\mathbb{R^n} \\rightarrow \\mathbb{R} \\cup \\{ \\pm \\infty \\}$ e $X \\subset \\mathbb{R}^n$, o problema\n",
    "\n",
    "$$\n",
    "\\min_{x \\in X} f(x)\n",
    "$$\n",
    "\n",
    "é uma notação para\n",
    "\n",
    "Def. Encontre $x^* \\in X$, se existir, tal que\n",
    "$$\n",
    "f(x^*) = \\inf \\{ f(x) \\mid x \\in X \\} \\in \\mathbb{R} \\cup \\{ \\pm \\infty \\}.\n",
    "$$\n",
    "\n",
    "Note que o ínfimo sempre existe e é chamado de *valor ótimo do problema*, já $x^*$ pode ou não existir e é chamado se *solução (ótima) ou (ponto de) ótimo* do problema de otimização.  "
   ]
  }
 ],
 "metadata": {
  "celltoolbar": "Slideshow",
  "kernelspec": {
   "display_name": "Julia [8 threads] 1.10.0",
   "language": "julia",
   "name": "julia-_8-threads_-1.10"
  },
  "language_info": {
   "file_extension": ".jl",
   "mimetype": "application/julia",
   "name": "julia",
   "version": "1.10.0"
  }
 },
 "nbformat": 4,
 "nbformat_minor": 4
}
